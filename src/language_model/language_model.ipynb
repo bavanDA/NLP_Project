{
  "cells": [
    {
      "cell_type": "code",
      "execution_count": null,
      "id": "fviD80TIqz1e",
      "metadata": {
        "colab": {
          "base_uri": "https://localhost:8080/"
        },
        "id": "fviD80TIqz1e",
        "outputId": "db03c88c-296f-403f-d40b-4044298028e1"
      },
      "outputs": [
        {
          "name": "stdout",
          "output_type": "stream",
          "text": [
            "Mounted at /content/gdrive\n"
          ]
        }
      ],
      "source": [
        "from google.colab import drive\n",
        "\n",
        "drive.mount('/content/gdrive')"
      ]
    },
    {
      "cell_type": "code",
      "execution_count": null,
      "id": "c2CtU9uMRdgT",
      "metadata": {
        "colab": {
          "base_uri": "https://localhost:8080/"
        },
        "id": "c2CtU9uMRdgT",
        "outputId": "82601580-82cd-47db-de10-44e36218390c"
      },
      "outputs": [
        {
          "name": "stdout",
          "output_type": "stream",
          "text": [
            "Collecting accelerate\n",
            "  Downloading accelerate-0.20.3-py3-none-any.whl (227 kB)\n",
            "\u001b[?25l     \u001b[90m━━━━━━━━━━━━━━━━━━━━━━━━━━━━━━━━━━━━━━━━\u001b[0m \u001b[32m0.0/227.6 kB\u001b[0m \u001b[31m?\u001b[0m eta \u001b[36m-:--:--\u001b[0m\r\u001b[2K     \u001b[90m━━━━━━━━━━━━━━━━━━━━━━━━━━━━━━━━━━━━━━━\u001b[0m \u001b[32m227.6/227.6 kB\u001b[0m \u001b[31m6.7 MB/s\u001b[0m eta \u001b[36m0:00:00\u001b[0m\n",
            "\u001b[?25hRequirement already satisfied: numpy>=1.17 in /usr/local/lib/python3.10/dist-packages (from accelerate) (1.22.4)\n",
            "Requirement already satisfied: packaging>=20.0 in /usr/local/lib/python3.10/dist-packages (from accelerate) (23.1)\n",
            "Requirement already satisfied: psutil in /usr/local/lib/python3.10/dist-packages (from accelerate) (5.9.5)\n",
            "Requirement already satisfied: pyyaml in /usr/local/lib/python3.10/dist-packages (from accelerate) (6.0)\n",
            "Requirement already satisfied: torch>=1.6.0 in /usr/local/lib/python3.10/dist-packages (from accelerate) (2.0.1+cu118)\n",
            "Requirement already satisfied: filelock in /usr/local/lib/python3.10/dist-packages (from torch>=1.6.0->accelerate) (3.12.2)\n",
            "Requirement already satisfied: typing-extensions in /usr/local/lib/python3.10/dist-packages (from torch>=1.6.0->accelerate) (4.7.1)\n",
            "Requirement already satisfied: sympy in /usr/local/lib/python3.10/dist-packages (from torch>=1.6.0->accelerate) (1.11.1)\n",
            "Requirement already satisfied: networkx in /usr/local/lib/python3.10/dist-packages (from torch>=1.6.0->accelerate) (3.1)\n",
            "Requirement already satisfied: jinja2 in /usr/local/lib/python3.10/dist-packages (from torch>=1.6.0->accelerate) (3.1.2)\n",
            "Requirement already satisfied: triton==2.0.0 in /usr/local/lib/python3.10/dist-packages (from torch>=1.6.0->accelerate) (2.0.0)\n",
            "Requirement already satisfied: cmake in /usr/local/lib/python3.10/dist-packages (from triton==2.0.0->torch>=1.6.0->accelerate) (3.25.2)\n",
            "Requirement already satisfied: lit in /usr/local/lib/python3.10/dist-packages (from triton==2.0.0->torch>=1.6.0->accelerate) (16.0.6)\n",
            "Requirement already satisfied: MarkupSafe>=2.0 in /usr/local/lib/python3.10/dist-packages (from jinja2->torch>=1.6.0->accelerate) (2.1.3)\n",
            "Requirement already satisfied: mpmath>=0.19 in /usr/local/lib/python3.10/dist-packages (from sympy->torch>=1.6.0->accelerate) (1.3.0)\n",
            "Installing collected packages: accelerate\n",
            "Successfully installed accelerate-0.20.3\n",
            "Collecting transformers\n",
            "  Downloading transformers-4.30.2-py3-none-any.whl (7.2 MB)\n",
            "\u001b[2K     \u001b[90m━━━━━━━━━━━━━━━━━━━━━━━━━━━━━━━━━━━━━━━━\u001b[0m \u001b[32m7.2/7.2 MB\u001b[0m \u001b[31m59.5 MB/s\u001b[0m eta \u001b[36m0:00:00\u001b[0m\n",
            "\u001b[?25hRequirement already satisfied: filelock in /usr/local/lib/python3.10/dist-packages (from transformers) (3.12.2)\n",
            "Collecting huggingface-hub<1.0,>=0.14.1 (from transformers)\n",
            "  Downloading huggingface_hub-0.16.4-py3-none-any.whl (268 kB)\n",
            "\u001b[2K     \u001b[90m━━━━━━━━━━━━━━━━━━━━━━━━━━━━━━━━━━━━━━\u001b[0m \u001b[32m268.8/268.8 kB\u001b[0m \u001b[31m33.0 MB/s\u001b[0m eta \u001b[36m0:00:00\u001b[0m\n",
            "\u001b[?25hRequirement already satisfied: numpy>=1.17 in /usr/local/lib/python3.10/dist-packages (from transformers) (1.22.4)\n",
            "Requirement already satisfied: packaging>=20.0 in /usr/local/lib/python3.10/dist-packages (from transformers) (23.1)\n",
            "Requirement already satisfied: pyyaml>=5.1 in /usr/local/lib/python3.10/dist-packages (from transformers) (6.0)\n",
            "Requirement already satisfied: regex!=2019.12.17 in /usr/local/lib/python3.10/dist-packages (from transformers) (2022.10.31)\n",
            "Requirement already satisfied: requests in /usr/local/lib/python3.10/dist-packages (from transformers) (2.27.1)\n",
            "Collecting tokenizers!=0.11.3,<0.14,>=0.11.1 (from transformers)\n",
            "  Downloading tokenizers-0.13.3-cp310-cp310-manylinux_2_17_x86_64.manylinux2014_x86_64.whl (7.8 MB)\n",
            "\u001b[2K     \u001b[90m━━━━━━━━━━━━━━━━━━━━━━━━━━━━━━━━━━━━━━━━\u001b[0m \u001b[32m7.8/7.8 MB\u001b[0m \u001b[31m108.5 MB/s\u001b[0m eta \u001b[36m0:00:00\u001b[0m\n",
            "\u001b[?25hCollecting safetensors>=0.3.1 (from transformers)\n",
            "  Downloading safetensors-0.3.1-cp310-cp310-manylinux_2_17_x86_64.manylinux2014_x86_64.whl (1.3 MB)\n",
            "\u001b[2K     \u001b[90m━━━━━━━━━━━━━━━━━━━━━━━━━━━━━━━━━━━━━━━━\u001b[0m \u001b[32m1.3/1.3 MB\u001b[0m \u001b[31m78.4 MB/s\u001b[0m eta \u001b[36m0:00:00\u001b[0m\n",
            "\u001b[?25hRequirement already satisfied: tqdm>=4.27 in /usr/local/lib/python3.10/dist-packages (from transformers) (4.65.0)\n",
            "Requirement already satisfied: fsspec in /usr/local/lib/python3.10/dist-packages (from huggingface-hub<1.0,>=0.14.1->transformers) (2023.6.0)\n",
            "Requirement already satisfied: typing-extensions>=3.7.4.3 in /usr/local/lib/python3.10/dist-packages (from huggingface-hub<1.0,>=0.14.1->transformers) (4.7.1)\n",
            "Requirement already satisfied: urllib3<1.27,>=1.21.1 in /usr/local/lib/python3.10/dist-packages (from requests->transformers) (1.26.16)\n",
            "Requirement already satisfied: certifi>=2017.4.17 in /usr/local/lib/python3.10/dist-packages (from requests->transformers) (2023.5.7)\n",
            "Requirement already satisfied: charset-normalizer~=2.0.0 in /usr/local/lib/python3.10/dist-packages (from requests->transformers) (2.0.12)\n",
            "Requirement already satisfied: idna<4,>=2.5 in /usr/local/lib/python3.10/dist-packages (from requests->transformers) (3.4)\n",
            "Installing collected packages: tokenizers, safetensors, huggingface-hub, transformers\n",
            "Successfully installed huggingface-hub-0.16.4 safetensors-0.3.1 tokenizers-0.13.3 transformers-4.30.2\n"
          ]
        }
      ],
      "source": [
        "! pip install -U accelerate\n",
        "! pip install -U transformers"
      ]
    },
    {
      "cell_type": "code",
      "execution_count": null,
      "id": "sTAPrx_xRf1l",
      "metadata": {
        "id": "sTAPrx_xRf1l"
      },
      "outputs": [],
      "source": [
        "import os\n",
        "\n",
        "os.kill(os.getpid(), 9)"
      ]
    },
    {
      "cell_type": "code",
      "execution_count": null,
      "id": "eIl4xY40DAe9",
      "metadata": {
        "colab": {
          "base_uri": "https://localhost:8080/"
        },
        "id": "eIl4xY40DAe9",
        "outputId": "d68cadd0-b3bc-40e3-adda-0726d494d260"
      },
      "outputs": [
        {
          "name": "stdout",
          "output_type": "stream",
          "text": [
            "Collecting git+https://github.com/huggingface/transformers\n",
            "  Cloning https://github.com/huggingface/transformers to /tmp/pip-req-build-ev5txag1\n",
            "  Running command git clone --filter=blob:none --quiet https://github.com/huggingface/transformers /tmp/pip-req-build-ev5txag1\n",
            "  Resolved https://github.com/huggingface/transformers to commit 717dadc6f36be9f50abc66adfd918f9b0e6e3502\n",
            "  Installing build dependencies ... \u001b[?25l\u001b[?25hdone\n",
            "  Getting requirements to build wheel ... \u001b[?25l\u001b[?25hdone\n",
            "  Preparing metadata (pyproject.toml) ... \u001b[?25l\u001b[?25hdone\n",
            "Requirement already satisfied: filelock in /usr/local/lib/python3.10/dist-packages (from transformers==4.31.0.dev0) (3.12.2)\n",
            "Requirement already satisfied: huggingface-hub<1.0,>=0.14.1 in /usr/local/lib/python3.10/dist-packages (from transformers==4.31.0.dev0) (0.16.4)\n",
            "Requirement already satisfied: numpy>=1.17 in /usr/local/lib/python3.10/dist-packages (from transformers==4.31.0.dev0) (1.22.4)\n",
            "Requirement already satisfied: packaging>=20.0 in /usr/local/lib/python3.10/dist-packages (from transformers==4.31.0.dev0) (23.1)\n",
            "Requirement already satisfied: pyyaml>=5.1 in /usr/local/lib/python3.10/dist-packages (from transformers==4.31.0.dev0) (6.0)\n",
            "Requirement already satisfied: regex!=2019.12.17 in /usr/local/lib/python3.10/dist-packages (from transformers==4.31.0.dev0) (2022.10.31)\n",
            "Requirement already satisfied: requests in /usr/local/lib/python3.10/dist-packages (from transformers==4.31.0.dev0) (2.27.1)\n",
            "Requirement already satisfied: tokenizers!=0.11.3,<0.14,>=0.11.1 in /usr/local/lib/python3.10/dist-packages (from transformers==4.31.0.dev0) (0.13.3)\n",
            "Requirement already satisfied: safetensors>=0.3.1 in /usr/local/lib/python3.10/dist-packages (from transformers==4.31.0.dev0) (0.3.1)\n",
            "Requirement already satisfied: tqdm>=4.27 in /usr/local/lib/python3.10/dist-packages (from transformers==4.31.0.dev0) (4.65.0)\n",
            "Requirement already satisfied: fsspec in /usr/local/lib/python3.10/dist-packages (from huggingface-hub<1.0,>=0.14.1->transformers==4.31.0.dev0) (2023.6.0)\n",
            "Requirement already satisfied: typing-extensions>=3.7.4.3 in /usr/local/lib/python3.10/dist-packages (from huggingface-hub<1.0,>=0.14.1->transformers==4.31.0.dev0) (4.7.1)\n",
            "Requirement already satisfied: urllib3<1.27,>=1.21.1 in /usr/local/lib/python3.10/dist-packages (from requests->transformers==4.31.0.dev0) (1.26.16)\n",
            "Requirement already satisfied: certifi>=2017.4.17 in /usr/local/lib/python3.10/dist-packages (from requests->transformers==4.31.0.dev0) (2023.5.7)\n",
            "Requirement already satisfied: charset-normalizer~=2.0.0 in /usr/local/lib/python3.10/dist-packages (from requests->transformers==4.31.0.dev0) (2.0.12)\n",
            "Requirement already satisfied: idna<4,>=2.5 in /usr/local/lib/python3.10/dist-packages (from requests->transformers==4.31.0.dev0) (3.4)\n",
            "Building wheels for collected packages: transformers\n",
            "  Building wheel for transformers (pyproject.toml) ... \u001b[?25l\u001b[?25hdone\n",
            "  Created wheel for transformers: filename=transformers-4.31.0.dev0-py3-none-any.whl size=7347790 sha256=1fbb7c4a749360b2f0410b509a5df52bbeeb13952c16164895001799c6c56e12\n",
            "  Stored in directory: /tmp/pip-ephem-wheel-cache-bv97m9xp/wheels/c0/14/d6/6c9a5582d2ac191ec0a483be151a4495fe1eb2a6706ca49f1b\n",
            "Successfully built transformers\n",
            "Installing collected packages: transformers\n",
            "  Attempting uninstall: transformers\n",
            "    Found existing installation: transformers 4.30.2\n",
            "    Uninstalling transformers-4.30.2:\n",
            "      Successfully uninstalled transformers-4.30.2\n",
            "Successfully installed transformers-4.31.0.dev0\n"
          ]
        }
      ],
      "source": [
        "!python -m pip install git+https://github.com/huggingface/transformers"
      ]
    },
    {
      "cell_type": "code",
      "execution_count": null,
      "id": "rCK7u4zXrQTs",
      "metadata": {
        "id": "rCK7u4zXrQTs"
      },
      "outputs": [],
      "source": [
        "import pandas as pd\n",
        "import csv\n",
        "from collections import defaultdict\n",
        "import matplotlib.pyplot as plt\n",
        "import os\n",
        "import ast\n",
        "import numpy as np\n",
        "import torch\n",
        "from torch.utils.data import Dataset, random_split\n",
        "from transformers import GPT2Tokenizer, TrainingArguments, Trainer, GPT2LMHeadModel\n",
        "import datetime\n"
      ]
    },
    {
      "cell_type": "code",
      "execution_count": null,
      "id": "HIwxlJTLDCL8",
      "metadata": {
        "id": "HIwxlJTLDCL8"
      },
      "outputs": [],
      "source": [
        "device = 'cuda' if torch.cuda.is_available() else 'cpu'\n",
        "os.environ['CUDA_LAUNCH_BLOCKING'] = \"1\"\n",
        "os.environ['TORCH_USE_CUDA_DSA'] = \"1\""
      ]
    },
    {
      "cell_type": "code",
      "execution_count": null,
      "id": "hD5X4fbKUsDw",
      "metadata": {
        "id": "hD5X4fbKUsDw"
      },
      "outputs": [],
      "source": [
        "PATH = \"/content/gdrive/MyDrive/NLP/github/NLP_Project/\""
      ]
    },
    {
      "cell_type": "code",
      "execution_count": null,
      "id": "_-h7ALp3UTkR",
      "metadata": {
        "id": "_-h7ALp3UTkR"
      },
      "outputs": [],
      "source": [
        "def log(message, task):\n",
        "    if task is None:\n",
        "        return\n",
        "    if (not os.path.exists(task)):\n",
        "        os.makedirs(f'{PATH}logs', exist_ok=True)\n",
        "        with open(f'{PATH}logs/{task}', 'w') as f:\n",
        "            f.write(f\"[{datetime.datetime.now()}] {message.encode('utf-8')}\\n\")\n",
        "    else:\n",
        "        with open(f'{PATH}logs/{task}', 'a') as f:\n",
        "            f.write(f\"[{datetime.datetime.now()}] {message.encode('utf-8')} \\n\")\n"
      ]
    },
    {
      "cell_type": "markdown",
      "id": "roman-patent",
      "metadata": {
        "id": "roman-patent",
        "papermill": {
          "duration": 0.013444,
          "end_time": "2022-03-02T09:11:13.440024",
          "exception": false,
          "start_time": "2022-03-02T09:11:13.426580",
          "status": "completed"
        },
        "tags": []
      },
      "source": [
        "**Code copied from this medium post - https://medium.com/geekculture/fine-tune-eleutherai-gpt-neo-to-generate-netflix-movie-descriptions-in-only-47-lines-of-code-40c9b4c32475**"
      ]
    },
    {
      "cell_type": "code",
      "execution_count": null,
      "id": "tnisN0uqRqwj",
      "metadata": {
        "id": "tnisN0uqRqwj"
      },
      "outputs": [],
      "source": [
        "class Dataset(Dataset):\n",
        "    def __init__(self, txt_list, tokenizer, max_length):\n",
        "        self.input_ids = []\n",
        "        self.attn_masks = []\n",
        "        self.labels = []\n",
        "        for txt in txt_list:\n",
        "            encodings_dict = tokenizer('<|startoftext|>' + txt + '<|endoftext|>', truncation=True,\n",
        "                                       max_length=max_length, padding=\"max_length\")\n",
        "            self.input_ids.append(torch.tensor(encodings_dict['input_ids']))\n",
        "            self.attn_masks.append(torch.tensor(encodings_dict['attention_mask']))\n",
        "\n",
        "    def __len__(self):\n",
        "        return len(self.input_ids)\n",
        "\n",
        "    def __getitem__(self, idx):\n",
        "        return self.input_ids[idx], self.attn_masks[idx]"
      ]
    },
    {
      "cell_type": "code",
      "execution_count": null,
      "id": "latter-stake",
      "metadata": {
        "colab": {
          "base_uri": "https://localhost:8080/"
        },
        "execution": {
          "iopub.execute_input": "2022-03-02T09:11:57.491069Z",
          "iopub.status.busy": "2022-03-02T09:11:57.490252Z",
          "iopub.status.idle": "2022-03-02T09:11:57.497804Z",
          "shell.execute_reply": "2022-03-02T09:11:57.498387Z"
        },
        "id": "latter-stake",
        "outputId": "64cd92ff-a322-4212-f42d-6e788e113664",
        "papermill": {
          "duration": 0.069172,
          "end_time": "2022-03-02T09:11:57.498576",
          "exception": false,
          "start_time": "2022-03-02T09:11:57.429404",
          "status": "completed"
        },
        "tags": []
      },
      "outputs": [
        {
          "data": {
            "text/plain": [
              "<torch._C.Generator at 0x7c2e8c7c3630>"
            ]
          },
          "execution_count": 7,
          "metadata": {},
          "output_type": "execute_result"
        }
      ],
      "source": [
        "torch.manual_seed(42)"
      ]
    },
    {
      "cell_type": "markdown",
      "id": "conceptual-amino",
      "metadata": {
        "id": "conceptual-amino",
        "papermill": {
          "duration": 0.047046,
          "end_time": "2022-03-02T09:11:57.593042",
          "exception": false,
          "start_time": "2022-03-02T09:11:57.545996",
          "status": "completed"
        },
        "tags": []
      },
      "source": [
        "### Loading GPT2-Medium Model from 🤗 Model Hub"
      ]
    },
    {
      "cell_type": "code",
      "execution_count": null,
      "id": "hundred-registration",
      "metadata": {
        "execution": {
          "iopub.execute_input": "2022-03-02T09:11:57.699372Z",
          "iopub.status.busy": "2022-03-02T09:11:57.698581Z",
          "iopub.status.idle": "2022-03-02T09:12:55.880302Z",
          "shell.execute_reply": "2022-03-02T09:12:55.880692Z"
        },
        "id": "hundred-registration",
        "papermill": {
          "duration": 58.240841,
          "end_time": "2022-03-02T09:12:55.880851",
          "exception": false,
          "start_time": "2022-03-02T09:11:57.640010",
          "status": "completed"
        },
        "tags": []
      },
      "outputs": [],
      "source": [
        "def get_model():\n",
        "  tokenizer = GPT2Tokenizer.from_pretrained('gpt2-medium', bos_token='<|startoftext|>',eos_token='<|endoftext|>', pad_token='<|pad|>')\n",
        "  model = GPT2LMHeadModel.from_pretrained('gpt2-medium').to(device)\n",
        "  model.resize_token_embeddings(len(tokenizer))\n",
        "  return model,tokenizer\n"
      ]
    },
    {
      "cell_type": "markdown",
      "id": "rational-lobby",
      "metadata": {
        "id": "rational-lobby",
        "papermill": {
          "duration": 0.035399,
          "end_time": "2022-03-02T09:35:16.433713",
          "exception": false,
          "start_time": "2022-03-02T09:35:16.398314",
          "status": "completed"
        },
        "tags": []
      },
      "source": [
        "### GPT Generated Description"
      ]
    },
    {
      "cell_type": "code",
      "execution_count": null,
      "id": "living-escape",
      "metadata": {
        "execution": {
          "iopub.execute_input": "2022-03-02T09:35:16.509805Z",
          "iopub.status.busy": "2022-03-02T09:35:16.509119Z",
          "iopub.status.idle": "2022-03-02T09:35:16.512317Z",
          "shell.execute_reply": "2022-03-02T09:35:16.511765Z"
        },
        "id": "living-escape",
        "papermill": {
          "duration": 0.04342,
          "end_time": "2022-03-02T09:35:16.512453",
          "exception": false,
          "start_time": "2022-03-02T09:35:16.469033",
          "status": "completed"
        },
        "tags": []
      },
      "outputs": [],
      "source": [
        "def generate_description(tokenizer,model,category):\n",
        "  generated = tokenizer(\"<|startoftext|> \", return_tensors=\"pt\").input_ids.cuda()\n",
        "  sample_outputs = model.generate(generated, do_sample=True, top_k=50,\n",
        "                                  max_length=300, top_p=0.95, temperature=1.9, num_return_sequences=20)\n",
        "  for i, sample_output in enumerate(sample_outputs):\n",
        "      print(\"{}: {}\".format(i, tokenizer.decode(sample_output, skip_special_tokens=True)))\n",
        "      log(\"{}: {}\".format(i, tokenizer.decode(sample_output, skip_special_tokens=True)),f\"language_model: {category}\")\n",
        "      # pd.options.display.max_colwidth = 1000\n",
        "      # descriptions.sample(10)"
      ]
    },
    {
      "cell_type": "code",
      "execution_count": null,
      "id": "IK6BPK64SYwB",
      "metadata": {
        "id": "IK6BPK64SYwB"
      },
      "outputs": [],
      "source": [
        "def get_dataset(category,tokenizer):\n",
        "\n",
        "  df = pd.read_csv(f'{PATH}/data/traindata/{category}.csv')\n",
        "  data = df.to_dict('dict')\n",
        "\n",
        "  descriptions = list(data['about'].values())\n",
        "  max_length = max([len(tokenizer.encode(description)) for description in descriptions])\n",
        "\n",
        "  dataset = Dataset(descriptions, tokenizer, max_length=max_length)\n",
        "  train_size = int(0.9 * len(dataset))\n",
        "  train_dataset, val_dataset = random_split(dataset, [train_size, len(dataset) - train_size])\n",
        "\n",
        "  return train_dataset, val_dataset\n"
      ]
    },
    {
      "cell_type": "code",
      "execution_count": null,
      "id": "kh8ERmeoSwrm",
      "metadata": {
        "id": "kh8ERmeoSwrm"
      },
      "outputs": [],
      "source": [
        "training_args = TrainingArguments(output_dir=f'{PATH}models/', num_train_epochs=1, logging_steps=100, save_steps=5000,\n",
        "                                  per_device_train_batch_size=1, per_device_eval_batch_size=1,\n",
        "                                  warmup_steps=10, weight_decay=0.05, logging_dir=f'{PATH}logs', report_to = 'none')"
      ]
    },
    {
      "cell_type": "code",
      "execution_count": null,
      "id": "CJ-7TN3FSIIm",
      "metadata": {
        "colab": {
          "base_uri": "https://localhost:8080/",
          "height": 1000
        },
        "id": "CJ-7TN3FSIIm",
        "outputId": "4d3a342c-e14c-4066-d62c-0c9479b5477d"
      },
      "outputs": [
        {
          "name": "stdout",
          "output_type": "stream",
          "text": [
            "action\n"
          ]
        },
        {
          "name": "stderr",
          "output_type": "stream",
          "text": [
            "Special tokens have been added in the vocabulary, make sure the associated word embeddings are fine-tuned or trained.\n",
            "/usr/local/lib/python3.10/dist-packages/transformers/optimization.py:411: FutureWarning: This implementation of AdamW is deprecated and will be removed in a future version. Use the PyTorch implementation torch.optim.AdamW instead, or set `no_deprecation_warning=True` to disable this warning\n",
            "  warnings.warn(\n"
          ]
        },
        {
          "data": {
            "text/html": [
              "\n",
              "    <div>\n",
              "      \n",
              "      <progress value='456' max='456' style='width:300px; height:20px; vertical-align: middle;'></progress>\n",
              "      [456/456 03:05, Epoch 1/1]\n",
              "    </div>\n",
              "    <table border=\"1\" class=\"dataframe\">\n",
              "  <thead>\n",
              " <tr style=\"text-align: left;\">\n",
              "      <th>Step</th>\n",
              "      <th>Training Loss</th>\n",
              "    </tr>\n",
              "  </thead>\n",
              "  <tbody>\n",
              "    <tr>\n",
              "      <td>100</td>\n",
              "      <td>4.069100</td>\n",
              "    </tr>\n",
              "    <tr>\n",
              "      <td>200</td>\n",
              "      <td>1.200900</td>\n",
              "    </tr>\n",
              "    <tr>\n",
              "      <td>300</td>\n",
              "      <td>1.207500</td>\n",
              "    </tr>\n",
              "    <tr>\n",
              "      <td>400</td>\n",
              "      <td>1.138500</td>\n",
              "    </tr>\n",
              "  </tbody>\n",
              "</table><p>"
            ],
            "text/plain": [
              "<IPython.core.display.HTML object>"
            ]
          },
          "metadata": {},
          "output_type": "display_data"
        },
        {
          "name": "stderr",
          "output_type": "stream",
          "text": [
            "The attention mask and the pad token id were not set. As a consequence, you may observe unexpected behavior. Please pass your input's `attention_mask` to obtain reliable results.\n",
            "Setting `pad_token_id` to `eos_token_id`:50256 for open-end generation.\n"
          ]
        },
        {
          "name": "stdout",
          "output_type": "stream",
          "text": [
            "0:  \n",
            "There Are a Good Half to all to all You to find\n",
            "  \n",
            "A game made by the team at Frogstud (Switzerland) who creates games like Space Knight's Return: Knights, Space Marines, War of Magic\n",
            "is currently being produced by Team 811 Team (Switzerland).\n",
            "You will need: \n",
            "\n",
            "6 Hours\n",
            "5,24 Dollars\n",
            " 6,88 Dollars,1,88.66  Dollars\n",
            "3 Cars \n",
            "4,16.4,5 Cars \n",
            "5\n",
            "-P maps (3 levels available on Steam)\n",
            "Ships 1/7 Cars & 6 Cars \n",
            "Corsican Racetrack in which the player have to beat an opponent while running into and dodging obstacles in this awesome arcade game experience!\n",
            "To complete:\n",
            "5-Minute-long game modes or Fast gameplay (Fast paced battles)\n",
            "-Unobtrusive elements in your game experience; no hard to the right thing is hidden; just good music.\n",
            "Team88 has worked to recreate both the aesthetic of its favorite Super Brothers 3 and Ninja Team Heroes, in order, in that direction. Super Sisters  Team heroes was designed with all-enemies to keep up on a quest; to protect our favorite players like myself is most definitely the greatest feature! Iess\n",
            "\n",
            "1:  :Game of all types! There must be two types of missions with different missions - the game map (or the game, its modes and objectives!) the level. Each level have two levels and each with three player. Iy.\n",
            "2:   The Legend of Noh no Mori® features 2 new adventures in both the world and of PIRUCAARON! In a first person game and classic presentation.\n",
            "The main hero has an opportunity for to join with KAZUNO, the god's daughter of MUTE, who is seeking her fortune. Together with ZONETAR, THE FOLDERING CIRCLE and THE SABERBER\n",
            "THE RING\n",
            "The legendary quest to protect and fight OBIEMOUDE is begun… in the mysterious and ever changing realm OOP, an unassuming little girl\n",
            " \n",
            "3:   \n",
            "I hate myself, but my self-esteem goes crashing down from over a decades- experience. After this all I see has come to a end, which does the end to what has to go!\n",
            "4:  \n",
            "The Steamy Racer is made with high-finance indie developers who know how to balance their creative freedom\n",
            "You are tasked to survive the first wave! This exciting story includes a great variety of graphics to enhance the experience; new maps in addition can be obtained by defeating obstacles or finding items within dungeons; but you will fight against hordes  as they race with you over various mountains to find the secrets! Don all this \n",
            "5:  A single game about your role as Detective Dred, solving some kind of mysteries at the city of Dandor will. The games progression gets shorter until he encounters some crazy puzzles and he becomes frustrated!\n",
            "The best game available! It allows in 1 with a number system (5 if playing single), gamepad motion control, audio system etc... The games contains a few short stories, that will become familiar through many encounters! If a puzzle is harder try them or go without a moment (I have not found a main puzzle) I dont play it, but can help you finish the adventures :) A hard is NOT as fast: it takes more time to realize, for the real game-feel \"Saving\". It combines hard puzzle and arcade style combat. The main mechanic has more and you choose your actions differently to explore your surroundings while keeping the atmosphere alive and unique! This experience will not spoil if all players stay friends through, because everything I will show you in my presentation of Game will make that hard moment easy! ;) You will have to explore it at the player side as a team at least \n",
            "More games soon for you to finish. Don make sure that some games will be harder even without this, I always aim you to reach 10  or higher in my finalgame by setting a very nice new level in the best way, while saving lots of gems of it! :) I hope your hard to reach my final goal :) This game has 100, 50\n",
            "6:  P.M.U..D, or Play Time U?. \n",
            "is an abstract survival game from RetroCup, where you take the role of one who has not died to join four strangers while escaping the town of Funguide's deathless pit of lava and lava rocks\n",
            "with one. The first challenge you create are: escape deathfully through each death! You should choose yourself: if the enemies survive a while, do to. and if they get blown your \n",
            "and get more than your skills levels up! Are not your \n",
            "friends and your companions doomed... (?)? Or are\n",
            "and their companions your hope!\n",
            "\n",
            "7:  【Adventure】\n",
            "Choose the quest. \n",
            "Take all the battles on the Map map\n",
            "Defeat enemies like the ghost, dragon knight warrior etc, collect coins and buy them for real coins of \n",
            "50\n",
            ", go to your own land  so you have to explore all the maps! \n",
            "-You can use the keys, so you are not alone!-Explore each place until you see one, one more  so don \n",
            "get an up to rank and gain an advantage over those  that might meet!\n",
            "8:  \n",
            "This unique story with unique twists and adventures you're very not-naked.\n",
            "DRAGON RAGE is complete with a full map system for those who don't want this.\n",
            "An epic multiplayer war of swords and magic!\n",
            "9:  \n",
            "Dancing Shoes was inspired by a movie and a dance sequence by Kari, designed for ladies to try and achieve their dancing power\n",
            "10:  \n",
            "You begin off by picking some gems up and completing tasks before finishing the rest.... then you leave to explore a dungeon as if in a time travel \n",
            " and make the final chapter with an objective from one to seven... all done just with those gems you bought\n",
            "\n",
            "\n",
            " \n",
            "\n",
            "\n",
            "\n",
            "11:  Inner Zone – The world is inhabited a universe by a black dog and you need in-place upgrade in the inner subrines of a giant-gunner! With a little time/buy-screens and time/up-down, they unlock new locations, guns or traps you want... and there is more coming!!!\n",
            "\n",
            "12:  \n",
            "\"The Road To Heaven\" by R&D / Pixel / GtX / PS4 Experience is a 2-player-only, survival horror experience, where each of five brave creatures are attacked.\n",
            "13:     (A fun-inductive game with two players only),\n",
            "Explore an endless, futuristic planet Earth and become part-human.  In between a lot and a lot more challenges and achievements. Help your party gain a unique skills to improve their reputation after leaving the surface for the second adventure to the planet, Earth. Collect resources in this world at your disposal and use new mechanics to build, equip, equipments, unlock an entirely different gear, .\n",
            "Unlock exclusive powers for your class \n",
            "Customizes everything you build in the world, using it on missions and worlds (depending on who wins) you may become invincible thanks in part time as this is based in virtual nature and your enemies are not going to lose any momentum until at all or you will kill each other one time too so join me for the final one. \n",
            "\n",
            "14:  \n",
            "I can become a fighter to liberate America, a bravely-chroniclling series of unique games on your screen. You will discover a whole library in order to save the World's only known superpower. And the only fight to end the world! Play against any characters of varying styles - including two who wield nuclear powers, and others with unique weaponry. Your goal is to fight each character with enough forces  to liberate  a majority, one-fourth : world, or the entire World.\n",
            "\n",
            "15:   \n",
            "If you're in the business you're looking to stay focused so the game just takes advantage of and the most current state of mind.\n",
            "  \n",
            "Now available in 3D: War, War is the next update on our classic 'war' \n",
            "Action\n",
            "Defense by Tomatoes\n",
            "Play Time: 20 – 30 minutes\n",
            "Time to completion: 2 hours, 5 parts and with 3 modes\n",
            " In a beautiful world, players have a battle arena- experience where to defend against enemy from any angle it must be strategic. Experience exciting warfare and enjoy the freedom of online play!\n",
            "16:   -  You, a gamer will kill aliens in the final mission. Take revenge in your choice of the number that best the bosses. \n",
            "Terracy and strategy combine to create the ultimate action fighter. \n",
            "To unlock exclusive levels, choose wisely and fight in new bosses.\n",
            "Enjoy endless waves of alien battle\n",
            "17:  \n",
            "There they are : Iylanda, Elia'c & Tomonichi Nippon-san!The protagonists on a new planet are kidnapped because they've got some problems.\n",
            "First one (you know him ): He gets lost and discovers how long they journey wasnthe journey he knew.\n",
            "There (are) an interesting story on of enemies along the quest to free his sister\n",
            "18:  \n",
            "DRAGONS OF HOTH \n",
            "\" The Journey is a single, intense experience. Journey through Hoth and collect 3 diamonds sooth your rage.\"\n",
            "Game Details\n",
            "\" \n",
            "Gameplay Gameplay : The Journey takes you across multiple stages full of bosses of orcs chasing your escape this lonely world.\n",
            " \n",
            "Control The action player character by using different sword techniques along with the grappling gun on top of his head; with the gun hidden under his head and running on a treadmill running on each other, with this action game play set before the introduction we reach The Hoth. \"This Journey is not finished,but there is a small chance of us reaching The Dark Age of HOTH!,\"\n",
            "It will start as Hoth in single player or with the support that you need; if on our stretch goals we are funded that means \" The Journey will feature only \" The main-stage is HOTH (  We are trying this so please to support it )\" as well in total it we like 6.\n",
            "\n",
            "19:  \n",
            "It is a fast paced action based survival game on the Windows PC\n",
            ". Its easy action is designed as both simple game where there're more obstacles but you will fight with different weapons while enemies will be new enemy set! I believe game's progression system will become harder but not to hard while doing simple puzzle\n",
            ". \n",
            "\n"
          ]
        },
        {
          "name": "stderr",
          "output_type": "stream",
          "text": [
            "Special tokens have been added in the vocabulary, make sure the associated word embeddings are fine-tuned or trained.\n"
          ]
        },
        {
          "name": "stdout",
          "output_type": "stream",
          "text": [
            "adventure\n"
          ]
        },
        {
          "name": "stderr",
          "output_type": "stream",
          "text": [
            "/usr/local/lib/python3.10/dist-packages/transformers/optimization.py:411: FutureWarning: This implementation of AdamW is deprecated and will be removed in a future version. Use the PyTorch implementation torch.optim.AdamW instead, or set `no_deprecation_warning=True` to disable this warning\n",
            "  warnings.warn(\n"
          ]
        },
        {
          "data": {
            "text/html": [
              "\n",
              "    <div>\n",
              "      \n",
              "      <progress value='447' max='447' style='width:300px; height:20px; vertical-align: middle;'></progress>\n",
              "      [447/447 03:04, Epoch 1/1]\n",
              "    </div>\n",
              "    <table border=\"1\" class=\"dataframe\">\n",
              "  <thead>\n",
              " <tr style=\"text-align: left;\">\n",
              "      <th>Step</th>\n",
              "      <th>Training Loss</th>\n",
              "    </tr>\n",
              "  </thead>\n",
              "  <tbody>\n",
              "    <tr>\n",
              "      <td>100</td>\n",
              "      <td>3.176000</td>\n",
              "    </tr>\n",
              "    <tr>\n",
              "      <td>200</td>\n",
              "      <td>1.246300</td>\n",
              "    </tr>\n",
              "    <tr>\n",
              "      <td>300</td>\n",
              "      <td>1.130500</td>\n",
              "    </tr>\n",
              "    <tr>\n",
              "      <td>400</td>\n",
              "      <td>1.205600</td>\n",
              "    </tr>\n",
              "  </tbody>\n",
              "</table><p>"
            ],
            "text/plain": [
              "<IPython.core.display.HTML object>"
            ]
          },
          "metadata": {},
          "output_type": "display_data"
        },
        {
          "name": "stderr",
          "output_type": "stream",
          "text": [
            "The attention mask and the pad token id were not set. As a consequence, you may observe unexpected behavior. Please pass your input's `attention_mask` to obtain reliable results.\n",
            "Setting `pad_token_id` to `eos_token_id`:50256 for open-end generation.\n"
          ]
        },
        {
          "name": "stdout",
          "output_type": "stream",
          "text": [
            "0:  The King can no short trip through dungeons with a knife. A knife brings a very long time for King who is lost, in adventure-y platformers. A few new platform game is created by creating bosses from previous games by creating unique sets with different mechanics, for a fun while, while playing with.\n",
            "Features :\n",
            "3 playable versions:\n",
            "1 - 1v2, 5,000 player in between both games, The difficulty mode change every second until new enemies can start.\n",
            " 2 - Multiple levels, with different objectives.\n",
            "1:   :Mimetic M is also for all players, and all to have a fun and action experience with these strange games that are not intended for kids  :\n",
            " \n",
            "2:   \n",
            "\n",
            "Cindell is a horror story where monsters turn humans, causing many deadly experiences at that take place all over the house. The terrifying times where an experience happens are just \"The way this house should get scared\". After several deaths, people who died are being born again and dead.\n",
            " Features   A Story: - It can be a horror and games about horror - Characters: Three\n",
            " A number - More to the show??\n",
            "\n",
            "Will see you on Eoranger ( https://store:steam\n",
            "_app/steam\n",
            " ) for a free game download if you need it, is \n",
            "3:  \n",
            "Play by your first character of either Sex and get her, or his. Take photos!\n",
            "\n",
            "Each photo has one person attached. Take it too early? Shoot yourself as soon as you meet the target person? Or spend your chance of making an awesome selfie!\n",
            " \n",
            "4:  \n",
            " There are 12.100\n",
            "starters here with your friends alone in\n",
            " the \n",
            ", an exciting multiplayer action game.\n",
            "You have the right to choose your character level. Your own level, but there aren't no obstacles nor is there an unforseen danger at you home.. It is fun on steam but not in offline.\n",
            "\n",
            "5:  --------------------------- The Lost Time of the Future\n",
            "- Interactive Soundtrack.\n",
            "6:     -  [_ ]-P\n",
            " \n",
            "It features 4 different levels ranging: in the first\n",
            "1st level you will need different pieces that get out from your location, with each the level increase with levels and collect new objects.\n",
            "The level is divided by: 5 zones, and each day with new enemies in 2 levels divided from. On a different day every item got in the inventory or can.\n",
            "There are also various modes available, and the characters, they do different kinds of game-play as usual.\n",
            "It has music through out that features several tracks that can become hidden, not easy with no visual clues, the gameplay is fun for me alone, it uses a 4k screen on a 360 degree device (using a 3s or4, on 3G. Just take it slow.. ;)\n",
            "\n",
            "\n",
            "\n",
            "\n",
            "7: . \n",
            "Kurisu.\n",
            "What kind of dog does the young girls wear a hat for? That should be more fun! This version is about to change your memories! Try!\n",
            "Key Features:\n",
            "8:  This level takes gamers from casual gaming players who get hooked from various movies-and also play multiplayer online.\n",
            "\"You are tasked by different alien to recover some hard resources.\" It is time to try different things together or if not, use the materials in battle or explore in various caves and rooms of your city to recover resources and the crafting abilities of your craft to try to survive and reach that precious part of space exploration where your world was,\n",
            "\"This time not just by yourself\".\n",
            "Features of the game:\n",
            "Different landscapes and lighting styles. Several types or weapons available at this stage, like pistols!\n",
            " All sorts of rooms of your city are possible\n",
            "Many types of creatures: animals and fish etc\n",
            "The weather can improve the resources obtained with help of its respective conditions, with a cool ambient-like and also use you crafting ability to improve it, or by destroying monsters to enhance it;. Use resources in the city or crafting in it for your own survival\n",
            "There have been at least 15 games with the name GameCube Indie. This level  will provide to players with more than ever.\n",
            "\n",
            "9:   \n",
            "A cute and silly little 2kaze girl in a little world game with puzzle pieces that the player gets to finish them out in time. The character's name (Kawii) is a \n",
            "\n",
            "Satisfating story\n",
            "There can either a single or full version available. There'll's \n",
            "a unique hand of \"W\". I also have multiple versions and \"dodge stones\", but you need multiple levels (I got 2kazes for each of them (!)\n",
            " \n",
            "In case anyone would \n",
            "discover them\n",
            "10:  \n",
            "\n",
            "11:  \n",
            "LINK SHIFT GAME\n",
            " (3 unique gameplay types)\n",
            "In game\n",
            "A hidden key unlock\n",
            "Mane\n",
            "Secret\n",
            "Press A with your finger while waiting/ waiting.\n",
            "12:  【Halloween〥 The Puzzler is The Mystery Girl! ). I could always get the next person! To be brave by just getting by them this time: make up of multiple 》HOLIDOONS‭(!-)\n",
            "You will have to collect several 〘HARDHANTS 〒 for your survival but you will survive: it\n",
            "will only mean that  your 】JUNZOS* will be upgraded and made worse for sure you will also make new tricks than you got before you! After that : \n",
            "■The Secret Hooters\n",
            "The last time! You may use up your strongest cards\n",
            "(!!!)\n",
            "A good hand with an all of\n",
            "HODOL\n",
            "■・Can the player become the next!!?・\n",
            "\n",
            "\n",
            "13:  \n",
            "\n",
            "14:  \n",
            "15:  \n",
            "- -\n",
            "There you go the fun stuff.\n",
            "16:  \n",
            "I am looking for assistance through some of game making and creating, to build all new locations, improve base systems to keep you motivated and be smarter, in the future games this ability will be added. With our new game in progress \n",
            ", i think i can do better :)\n",
            "- Building new locations through game\n",
            "  - Post screenshots :) to give you easy progressions as to keep you busy!\n",
            "17:  You become The Darkened Angel.\n",
            "To do quests and improve you become as more experienced in the game as possible while also collecting secrets and monsters! Also unlock more unique and dangerous locations like the dungeons. Go on adventures \n",
            "! Dungeon - \n",
            "  Dungeon Escape?\n",
            "Danger! Go on adventure in darkness with these amazing new weapons! Enjoy. Find  \n",
            ": 2 unique  - 100 different weapons from Adventure through Dungeon.! In a very funny game of cat on horse!\n",
            " \n",
            "18:  \n",
            "A 2D-adventure RPG, where two young lads compete against a game of who will fight hard  In Search of, or A Go to it. A game about solving the puzzles and going up for some good friends; all of it. Features a main character with two companions of her own;\n",
            "•A level of 1-to \n",
            "1\n",
            "19:  \n",
            "An online map with different types of games\n",
            ", you are one gameplayer and the chance-change game. Your character takes on one player in one unique mode... this map could be useful if it's not but... you can just play it freely since it can be freely used on other devices like laptops, tablets and mobile phones. We have decided this map also give full support... we could to you  to keep this, you to play any and of the games of this world  It's only game we do!\n",
            "\n",
            "\n",
            " \n",
            "We love online gaming and online game. These are very hard for humans of our generation  It will surely will make us want to die again\n"
          ]
        },
        {
          "name": "stderr",
          "output_type": "stream",
          "text": [
            "Special tokens have been added in the vocabulary, make sure the associated word embeddings are fine-tuned or trained.\n"
          ]
        },
        {
          "name": "stdout",
          "output_type": "stream",
          "text": [
            "rpg\n"
          ]
        },
        {
          "name": "stderr",
          "output_type": "stream",
          "text": [
            "/usr/local/lib/python3.10/dist-packages/transformers/optimization.py:411: FutureWarning: This implementation of AdamW is deprecated and will be removed in a future version. Use the PyTorch implementation torch.optim.AdamW instead, or set `no_deprecation_warning=True` to disable this warning\n",
            "  warnings.warn(\n"
          ]
        },
        {
          "data": {
            "text/html": [
              "\n",
              "    <div>\n",
              "      \n",
              "      <progress value='282' max='282' style='width:300px; height:20px; vertical-align: middle;'></progress>\n",
              "      [282/282 01:44, Epoch 1/1]\n",
              "    </div>\n",
              "    <table border=\"1\" class=\"dataframe\">\n",
              "  <thead>\n",
              " <tr style=\"text-align: left;\">\n",
              "      <th>Step</th>\n",
              "      <th>Training Loss</th>\n",
              "    </tr>\n",
              "  </thead>\n",
              "  <tbody>\n",
              "    <tr>\n",
              "      <td>100</td>\n",
              "      <td>4.943100</td>\n",
              "    </tr>\n",
              "    <tr>\n",
              "      <td>200</td>\n",
              "      <td>1.658100</td>\n",
              "    </tr>\n",
              "  </tbody>\n",
              "</table><p>"
            ],
            "text/plain": [
              "<IPython.core.display.HTML object>"
            ]
          },
          "metadata": {},
          "output_type": "display_data"
        },
        {
          "name": "stderr",
          "output_type": "stream",
          "text": [
            "The attention mask and the pad token id were not set. As a consequence, you may observe unexpected behavior. Please pass your input's `attention_mask` to obtain reliable results.\n",
            "Setting `pad_token_id` to `eos_token_id`:50256 for open-end generation.\n"
          ]
        },
        {
          "name": "stdout",
          "output_type": "stream",
          "text": [
            "0:   Hitting monsters a second player, so there is some different difficulty or one has too much HP and not at full HP at level 3, go with 2p4 difficulty in that!  \n",
            "Game, in this era of World Cup series is  challengetent, each battle a fight with 5 player to defeat! Will players get good experience. How will I beat level 2 enemies on level 3 level of 1's skill or skill-level. Which enemies for example will not have one hand or the strongest hand, can be weakness for each of them (like only two are weak)?  And finally Which difficulty can players go up a second? To.\n",
            "You   Will find 3 hidden levels! With an additional 2 hidden treasures. How will  our time the fight a lot? Are there an achievements for players, just have it in mind!!\n",
            "1:  \n",
            "2:   \n",
            "Key words: Japanese\n",
            "This RPG is great fun ! This Game has to play in an easy to remember system! Choose from multiple people in the group, to solve complex puzzles for various rewards!  Each group is an \n",
            "game in the mood \n",
            " mood, from relaxing to challenging!  In each section, players can explore various puzzles at different \n",
            "3:  \n",
            "4:   \n",
            "But, what might you really need? A little light that can make it to the bathroom - or if your car is parked- can go directly where thereis light coming but. Do it to. a girl?\n",
            "What you will earn for doing: \n",
            "a.  In \"Hair and Face Offing\" game you need  only an\n",
            "  girls (3. You only.\n",
            "(If you lose the start of the game you lose) all the other events in  an.\n",
            "This also lets\n",
            " You have lots from girls in our room \n",
            "(This is our \n",
            "\n",
            "5:   As we walk to the top, an  \n",
            "But no - The last, it is a time- travel \n",
            "- A beautiful landscape game \n",
            "\n",
            "6:  \n",
            "A brand new visual novel to the RPG and puzzle genre. You help find the mysterious girl on the battlefield. Only get help from the girl while you're waiting \n",
            "There are no friends so you have your own army of 3 players! Use your weapon against enemies, heal the hero to escape alive or fight it out \n",
            " \n",
            "7:   \n",
            "8:  _________\n",
            "\n",
            "__ A place for relaxing time for __\n",
            "A cute and friendly personne at every __\n",
            "All the _____ objects  __ the game  can see\n",
            " The main focus for the design is to encourage interaction\n",
            "9:   - A good and simple action-adventure platformer/collecting game. You must make money on time as he runs to defeat enemies, try new and interesting ways to progress in the world and overcome obstacles as you compete as world leader. But only time can give hope....\"You need more skill. Try and earn more rewards, unlock more items at different checkpoints and discover more information about the world!\n",
            " \n",
            " - Unique in  game concept! Choose an awesome power type you own! Try this one to improve your performance with help from all the villagers. \n",
            "\n",
            "This cute but challenging game\n",
            "- Explore dangerous places to get weapons.\n",
            " -Explore every corner in the world to get the top achievements!\n",
            "Find and    The Game at your place on board the sky train (C)! \n",
            " \n",
            "10:  \n",
            "An open source story exploration game in  Open 3d and its related worlds. Explore and battle enemies across the world as the adventurer search  in order to  unlock hidden passages. \n",
            "\n",
            "Ages are open to   all  gamers-from beginners to serious players -  who play on console's and go \"intermediate\".\n",
            "An online store featuring a variety of products in the game in full color    The map from level to levels, with several kinds of items, items for your experience  achievements & equipment and much more  - everything \n",
            "11:  」.\n",
            "\n",
            "\"For this, she has become more familiar with her identity so she has to rely on it even, after obtaining a master's support is great, by having been unable to kill the protagonist\", \"The experience  has become more and more like.  \"\"\n",
            "12:  ________________________________________________________________. -The characters move slowly. A single image in every screen captures its momentous existence __________________________________________________________________.- Explore lush landscapes of all corners- Find a mystery to prove your love- Or you and two brothers will fight! - Your goal to collect four precious artifacts:  __________________.  ¯\"\"\"\"¯¯¯ \n",
            "\n",
            "13:   You're going for a challenge. Play as Jack Marr! Enjoy watching your skills are challenged (as always the difficulty drops the higher. Try and beat only high scores!) \n",
            "14:   - A visual novel filled game to unlock new stages with this collection, including all story endings from previous versions.\n",
            "\n",
            "15:  Game play: 1 player\n",
            " Features: Lots Of Classes Available for every character including Elves With special Classes to play and even dragons\n",
            " Play Game for 100 Games!\n",
            " Features: Classes and skills to play. The \"Tomb of Heroes\" also is completely free to players using it. And all the skills and classes can enjoy the rewards in The Tomb Unlimited\" game or in the endless online with other play!\n",
            "16:   .  What you enjoy in this game is the action of battles but with a slight background sound italian background is played again for a bit\n",
            "\n",
            "...\n",
            "17:  \n",
            "Main Features: - \n",
            "- \n",
            "- World\n",
            " Beautiful visual visual game. You are not only controlling some characters or weapons, with all your control over others also your background and the environment influences the plot of  will have its story influence for a few\n",
            " minutes. Every step from enemy defeat to solving the puzzles, can affect an action for several minutes with every \n",
            " the background and  you interact different types..\n",
            "Key Features: - \n",
            " You have choices for all the characters in the game -\n",
            "\n",
            " the background choices\n",
            " enemy type choices.\n",
            "  will.. Enjoy! :)\n",
            "\n",
            "18:  ------------------------ Game | | Controls | -------------------------\n",
            "1 Point To Click on an item ------------- Start...................................\n",
            "There are 6 main levels and 4 collect them all in one click of one button................................................................-1 1\"D (a few stages, are small, it has a pretty simple system )\n",
            "( I know about gameplay a \" Game\", only this one will become easy to learn )\n",
            "You have 100 bullets. How  and  -, you do an 1st move. In Game the aim is of not go straight back, instead on you can click on items for the last move at this  place, go back (not) back... You don!\n",
            "19:  It starts a chain of events.\n",
            "To avoid it, save his character \n",
            "In an old age game.\n"
          ]
        },
        {
          "name": "stderr",
          "output_type": "stream",
          "text": [
            "Special tokens have been added in the vocabulary, make sure the associated word embeddings are fine-tuned or trained.\n"
          ]
        },
        {
          "name": "stdout",
          "output_type": "stream",
          "text": [
            "strategy\n"
          ]
        },
        {
          "name": "stderr",
          "output_type": "stream",
          "text": [
            "/usr/local/lib/python3.10/dist-packages/transformers/optimization.py:411: FutureWarning: This implementation of AdamW is deprecated and will be removed in a future version. Use the PyTorch implementation torch.optim.AdamW instead, or set `no_deprecation_warning=True` to disable this warning\n",
            "  warnings.warn(\n"
          ]
        },
        {
          "data": {
            "text/html": [
              "\n",
              "    <div>\n",
              "      \n",
              "      <progress value='351' max='351' style='width:300px; height:20px; vertical-align: middle;'></progress>\n",
              "      [351/351 01:56, Epoch 1/1]\n",
              "    </div>\n",
              "    <table border=\"1\" class=\"dataframe\">\n",
              "  <thead>\n",
              " <tr style=\"text-align: left;\">\n",
              "      <th>Step</th>\n",
              "      <th>Training Loss</th>\n",
              "    </tr>\n",
              "  </thead>\n",
              "  <tbody>\n",
              "    <tr>\n",
              "      <td>100</td>\n",
              "      <td>6.583600</td>\n",
              "    </tr>\n",
              "    <tr>\n",
              "      <td>200</td>\n",
              "      <td>2.320100</td>\n",
              "    </tr>\n",
              "    <tr>\n",
              "      <td>300</td>\n",
              "      <td>2.227200</td>\n",
              "    </tr>\n",
              "  </tbody>\n",
              "</table><p>"
            ],
            "text/plain": [
              "<IPython.core.display.HTML object>"
            ]
          },
          "metadata": {},
          "output_type": "display_data"
        },
        {
          "name": "stderr",
          "output_type": "stream",
          "text": [
            "The attention mask and the pad token id were not set. As a consequence, you may observe unexpected behavior. Please pass your input's `attention_mask` to obtain reliable results.\n",
            "Setting `pad_token_id` to `eos_token_id`:50256 for open-end generation.\n"
          ]
        },
        {
          "name": "stdout",
          "output_type": "stream",
          "text": [
            "0:  \n",
            "\n",
            "somewat - \n",
            "-\n",
            "\n",
            "a relaxing experience, not the same game they're based around you or their journey \n",
            ";\n",
            "\"somewit's\" game, a beautiful painting and playing solitaire in peace and quiet,\n",
            " ; is the perfect relaxation and way for you to experience  \n",
            "somnistic (non-gaming), peaceful relaxing\n",
            "/\n",
            "\n",
            "!/\n",
            "The way you are a man may have a beautiful art, like, paintings on your skin - can be beautiful - don; have lots of sex\n",
            "; a great  art for everyone! Have a relaxing meditation experience!\n",
            ".\n",
            "! And many fun pieces. You might find this game easy as long work without any struggle!\n",
            " \n",
            "/\n",
            "To achieve peaceful and peaceful relaxation. To give you a relaxing day to day job, relaxing life! And to satisfy your sensual mood!\n",
            "\n",
            "1:  \n",
            "The New Hope - Single Player Online Simulator is set in the New Hope Republic of Theodras. When a revolt began on its homeland (Belionia) in the 21th Century to prevent a dictatorship, you fight, destroy it  by discovering the real threat in this game. \n",
            "In real\n",
            " battle, you do more than run out of ships but instead attack buildings (satellite ships) and the cities of Belion. Control the war zone using military units (Taser  ) to eliminate\n",
            "all invaders! It'll come down from the distant world to hit the streets on the next time the time passes and your will fight the battle of destiny!\n",
            "\n",
            "2:    \n",
            "\n",
            "Delve's goal in playing the role of your real life play friend becomes clear. In a dark mood playing a fun time game has something extra for young adults who want game to chill out together with. Make fun of yourself in this and some of all fun things have been randomly placed with the help of music and music. Get your hang out and find yourself one game. In fact, get some fun!\n",
            "What can be found here?\n",
            "\n",
            "More than the usual random tiles game, there can also be interesting game features such puzzles, different game sounds  all your games can be analyzed!\n",
            "Game:: 50 cards, 52 card system\n",
            "Rules : Different difficulties every and in equal amounts of the deck or more for each difficulty\n",
            " (6.8 pixel and 8-16) high-tech.\n",
            " If playing alone your game should not give you anxiety on any part and only fun. Or on this play alone in groups of 20  can make sense to all as  everyone  wants to meet the best friends of today!\n",
            "\n",
            "3:  PvW card pool and \n",
            "\"Real Game\" mode are different but,\n",
            " the board is one place all and\n",
            " there are many decks outthere \n",
            "\n",
            "4:  \n",
            " \"Hacking My Math is like trying to hack any computer game! Try to beat your own brain\n",
            " levels to beat the AI game by your goal.\n",
            "5:   The beautiful girl who never lost control in a battlefield on the new battlefield  Beautiful and smooth animation by the famous artist and game designer: Kameko The Sea monster is designed by: Shigeru Ohta. \n",
            "6:   You have 2 types, Defense or Action. Your defense will attack (move) more than you can attack in one shot which is the case\n",
            "In each scenario I have an objective game that has two paths (there may be fewer paths in most games). They have been arranged that give you an option which is very limited. For further explanation of each scenario have let me translate in order. The game consists by building blocks to destroy buildings and also to advance the character! Building a city by using new buildings. (You must combine these) Or to use building that you only available. No time limit that you must clear, your hero grows with time before it explode!(How it's being made for you! Do not give up now!! (!!!)).\n",
            "Special Abilities? and different equipment you have.\n",
            "7:  \n",
            "is the ultimate fun! A team-based sandbox/action RPG and a classic card tower/gazing and calming music experience. The board can move about a wide variety with ills being inflicted. Each floor has 3x 3 units or (ex) 3x3 floors. If the units to level increases will get stronger and more unit are ills it can lead them all, up a huge way into the next level: 3rd floor. \n",
            "!\n",
            "is:\n",
            " 3X3 tiles system where player use ix-ball!\n",
            "There is a simple gameplay and more functional way you can spend your time\n",
            "Each level comes with many features by way from relaxing soundtracks  (ex:  -3  to level 2)  If \n",
            "  It helps players of \n",
            " by way to \n",
            " different game experience, while playing to level is done, and player health meter becomes higher! (ex is min- level).\n",
            "8:    The player moves a square tiles.  \n",
            "The world map map may look very old in this version that is about to make an even turn by flipping the world maps \n",
            "Play without any buttons on iOS! \n",
            "Features:\n",
            "9:   My game  is very real  fun   puzzle game-like board game with different paths, colors- and multiple ways to play and  relax with multiple levels. \n",
            "Take your turn, move your player  through 3 levels on their quest against hordes of monsters! The challenge begins for real today; and they must go over 9 more in 9 harder levels to beat monsters' weaknesses! \n",
            "\n",
            "All achievements will unlock different types of   various cards with different effects & patterns\n",
            "Use this to defeat monsters all the way. \n",
            "\n",
            "10:  The objective, hidden house world Puzzle Puzzle by: Puzzle (Puzzle), and in an even deeper version, Super Puzzle with Friends. Check how easy will get to the puzzle game  with friends! Or just relax as much as possible here. Play only in a relaxing music box!\n",
            "11:  \n",
            "In an immersive city simulation with RPG elements \n",
            "Two classes: \n",
            "Highborn  is inspired by highclass history (especially Venice and Venice is a world which we love).\n",
            "A simple strategy where they each become one player characters who in order to build the empire, need resources and develop the mines on\n",
            "\n",
            "Each mines consists of more than 60 minerals. All mineral levels will improve as  a well\n",
            "This level of mining gameplay is simple: build factories and mines are made from different materials as they upgrade in an endless build game of their\n",
            "You also use your resources (gas  and fuel  ) in  The  mining operation,  the new \" mining factory \n",
            "To grow this plant from an factory is difficult step.\n",
            "There are plenty of mines, which help build the empire in some of the sectors at your disposal.\n",
            " This campaign allows players who wish it \n",
            " To build and win the entire city from! a game for each one in it  a great experience!\n",
            " A free level-based map that offers fun gameplay \n",
            "  The mines are simple, well controlled mines such an\n",
            " is a base game designed in 4  days to enjoy\n",
            "12:   is known for both fun and addictive! \n",
            "\n",
            "13:  \n",
            "I'm back, and I'm your girl!!! I come today, have 2 of u with fun with you\n",
            "Play solo\n",
            "Collect levels to the game of\n",
            "Use a unique weapon\n",
            "Play this 3v3 scenario gameplay game in total mode and join friends with the \"Smashed Girl\"\n",
            "In all game zones  if players can survive, enjoy and fight!! I love   \n",
            "THE CREATION of world with characters by friends! \n",
            "  \"What this game of games have \n",
            "...\n",
            "14:  \n",
            "This is my project\n",
            "   The aim \n",
            "- Builds all items\n",
            " from the starting stage\n",
            "- Add new characters!\n",
            "- Customise difficulty\n",
            "- Get all levels added to a player\n",
            "- More players available\n",
            "Keyboard Controller Features A new style of game mode where you can build up and use \n",
            "a lot of skills.  \"   \"  My game (not really it: is in this is the original game and also a lot of things) has the power to control the enemies,  you must choose your opponent   who's attack to avoid her, with all moves done correctly will \n",
            "win! This game, is quite enjoyable; don't pass on for an achievement (or more like some), keep on moving forwards for as your opponent wins! Find the path you belong for winning win the battle!\n",
            "To achieve, a lot of people must become    A hero in this\n",
            " to advance, win new levels on your own in order to progress;  you gotta win that in order   and , that must.\n",
            "Enjoy the journey and use it to get achievements for the winner\n",
            " \n",
            "15:  \n",
            "Chill Out on Puzzle Players! \n",
            "-2v1, 30 game play\n",
            "- 30 Levels and 50 levels.\n",
            "\n",
            "- Unique art.\n",
            "If you are able this is hard but awesome game, then give up yourself a little at the end of it and it would be perfect\n",
            " and\n",
            " \n",
            "\n",
            "\n",
            "16:  \n",
            "*  \n",
            "* A Puzzle by \n",
            "\n",
            "- 2 pieces pieces puzzle and \n",
            "8 characters each\n",
            "\n",
            "+   Unique effects like blinking\n",
            "This \n",
            "(Game) takes all the complexity out of solving a 2d-5 level in Puzzle-the-time. It will give you all the fun!!! I like  every second and turn you. Find some treasures or some monsters etc, take screenshots etc I enjoy all the difficulty and \n",
            "A real life   2d - board puzzle, if done properly is just  and. (\n",
            "A fun  simple- arcade puzzle with minimalist  gameplay appetity is for beginners in   Puzzles: click play and your score wins automatically!!!\n",
            "- 7 puzzles with 30 levels and two of each stage and the 3rd boss. Some pieces pieces on that 3  levels are hidden; click- play without being afraid that enemies will try a \"gorgeful\n",
            "play  and capture  can get an a little overactive :\n",
            "\n",
            "\n",
            "17:  \n",
            "Fantasia ( F ːasia games. Original, highquality game for Windows) features an in-formate map in which different levels create their own story, the progression of skills and experience.\n",
            "18:   A 3/10 shooter using time elements which you control on your computer via joystick. The clock starts now...\n",
            "19: .Fantasy - A beautiful and interesting fairy fairy tale, and beautiful elf. Fairy Tale is an RPG-action. Play through, fight with. .\n",
            "The game features \"taunt and hex\" systems which are an additional alternative (but optional!) side-effect the more than one may take part in battle.\n",
            "Take over your lands & defeat armies or enemies - play solo the dungeon map will be your way\n",
            "Play all stages of your dream - The beautiful scenery is in your control!!. But wait in line!!!\n",
            "DUAL SIM-SIP PLAY:\n",
            "The screen fades into the magical realm - each one of you brings your own skill in order not to give up, as the final stages are determined in the time-limit, you want to stay strong in the final! \n",
            "Use it as your base to survive by\n",
            "Find a reward \n",
            "Depend: In-life resources - skills is key!!\n",
            "FANT STORY\n",
            "simulation\n"
          ]
        },
        {
          "name": "stderr",
          "output_type": "stream",
          "text": [
            "Special tokens have been added in the vocabulary, make sure the associated word embeddings are fine-tuned or trained.\n",
            "/usr/local/lib/python3.10/dist-packages/transformers/optimization.py:411: FutureWarning: This implementation of AdamW is deprecated and will be removed in a future version. Use the PyTorch implementation torch.optim.AdamW instead, or set `no_deprecation_warning=True` to disable this warning\n",
            "  warnings.warn(\n"
          ]
        },
        {
          "data": {
            "text/html": [
              "\n",
              "    <div>\n",
              "      \n",
              "      <progress value='468' max='468' style='width:300px; height:20px; vertical-align: middle;'></progress>\n",
              "      [468/468 02:53, Epoch 1/1]\n",
              "    </div>\n",
              "    <table border=\"1\" class=\"dataframe\">\n",
              "  <thead>\n",
              " <tr style=\"text-align: left;\">\n",
              "      <th>Step</th>\n",
              "      <th>Training Loss</th>\n",
              "    </tr>\n",
              "  </thead>\n",
              "  <tbody>\n",
              "    <tr>\n",
              "      <td>100</td>\n",
              "      <td>4.349000</td>\n",
              "    </tr>\n",
              "    <tr>\n",
              "      <td>200</td>\n",
              "      <td>1.547600</td>\n",
              "    </tr>\n",
              "    <tr>\n",
              "      <td>300</td>\n",
              "      <td>1.572000</td>\n",
              "    </tr>\n",
              "    <tr>\n",
              "      <td>400</td>\n",
              "      <td>1.585600</td>\n",
              "    </tr>\n",
              "  </tbody>\n",
              "</table><p>"
            ],
            "text/plain": [
              "<IPython.core.display.HTML object>"
            ]
          },
          "metadata": {},
          "output_type": "display_data"
        },
        {
          "name": "stderr",
          "output_type": "stream",
          "text": [
            "The attention mask and the pad token id were not set. As a consequence, you may observe unexpected behavior. Please pass your input's `attention_mask` to obtain reliable results.\n",
            "Setting `pad_token_id` to `eos_token_id`:50256 for open-end generation.\n"
          ]
        },
        {
          "name": "stdout",
          "output_type": "stream",
          "text": [
            "0:  \n",
            "This game contains: game  to improve the skill of: the playing mind, in many forms in real life situations, to become much richer from doing activities to\n",
            "training from. The gameplay, and a number of levels, makes playing game  \n",
            " easier than on average, that being, that: when\n",
            "to do: play-testing, for the skill gainer (1, 1/ 2 of:). You also gain access to a variety of resources :  a very easy difficulty which to experience if it don: is on normal.\n",
            ". In each of that type it can be interesting to look back on: - the real-time movement of you- to try - with. And you discover with:\n",
            "many modes and elements, to explore!. As of the new update, they can be changed - from this\n",
            ". And yes, some parts can be skipped, as your playing mind gets more... :),!\n",
            "- New types of game,\n",
            "will gradually. \n",
            "In this game, the player only plays around, with the right mind, in a real real experience at any time:, - mind (brain and nervous system\n",
            "- it depends by game \n",
            "1:    \n",
            " \n",
            "FPS4S1 - Take Control\n",
            "A new addition on the FPS platform; an interesting and addictive gameplay set inside the office ! Players will find themselves caught in several exciting quests  that they can progress  with by completing them  - from destroying and repairing office buildings on the tower to defend new offices - complete! \n",
            "! Players who are new to pc, only enjoy this in combination with\n",
            "! The entire experience!\n",
            "And also, in-between, \n",
            "; by selecting one of the levels at a level by selecting a new one, a special, randomized plot area to complete (\n",
            "); by completing every plot map with a 100 difficulty limit (! (\n",
            "2:  \n",
            ". For example here is is . (Ladies), you \n",
            "Are here -\n",
            "3:   You will have the good choice by selecting the order of actions for\n",
            "6 events, which are divided by an algorithm by number of the last choices. And at a time-dependent setting!\n",
            "There are several possible scenarios for each story...\n",
            "Features: 2 scenarios of all actions combined together! 2 types of endings!\n",
            " \n",
            "4:     In Japanese version, there     The main goal for game: a) a good racing! you play race your truck and win! \n",
            "5:   The Secret\n",
            " is, if you know how to draw well you just click or roll on the backside the rest of the ball comes through so you know how to pick you can play or watch it fly away without stopping so you can check the ball as it goes\n",
            "\n",
            "6:   And these will be you!\n",
            "  In this fantasy and relaxing relaxing game, just you will take part through in single player and unlock more features that create more fun to see by watching the gameplay while enjoying the pictures and relaxing art on your hands so easy!\n",
            "  If \n",
            "\n",
            "7:   In 2:12 and 18 and a gun - there is \"Gun to start!\". Gun to set is an endless gun war. Game is based around 2nd party combat, you start the main mode with only.2g guns in game (like the original - gun - gun, like to get good guns and fight against other characters will start, but  dont want - gun - gun fire. For more  freedom.\n",
            "Game mode allows shooting in any direction  the only exception. the only feature  has 2 - 12 modes.\n",
            "\n",
            "8:   The purpose of building game experience is to create a multiplayer online fantasy setting and challenge. All the player  are completely immobile or walking as many will go to sleep. Andon to these circumstances, each fight to an objective objective becomes an action of battle, to become an enemy. And when it is over, this reality and this virtual world will completely melt or lose, not. And when everything is overcome, everything is changed, everything's just got war coming after.\n",
            " Game settings : - Relaxed, relaxed and Relaxed, which means the player never has any conflicts.\n",
            ". Games available. - Free upgrade and gameplay modes with more.\n",
            "- 3 weapons.\n",
            " (6 weapon varieties\n",
            ".)\n",
            "\n",
            "9:  _________________I have been waiting for this moment -the perfect experience- the place for a real fun!!-I love playing it!\"The Girl in the Dark. This beautiful and hauntingly sexy girl is the one person who plays the main role. For an ultimate love experience \"-you, are playing for now.\"Play Game without being touched. To enjoy beautiful girl \". We've been trying -the most simple things. I was able and satisfied at this very low end to play an easy and nice experience . The first moment was like this (the time and distance was the biggest hurdle to overcome ):\n",
            " \" The Girl was a very nice lady.\n",
            "\n",
            "10:  𝗙𝛚�r곃𝫰� Game will make you become your character in an immersive gaming space...\n",
            "Crazy time has long ago to its last\n",
            "Culture war! is currently open - you have more then 12 years time time!!\n",
            "You have only 8 more years then you ever get\n",
            "1 - Become � -A \n",
            " 1 (   is it real - i think not, you may not play with ,\n",
            "11:  \n",
            "Hence, this is in first version, the other parts were optimized so people can play them in time speed setting.\n",
            "12:   This game allows for multiple scenarios! \n",
            "How?\n",
            ".\n",
            "13:   Features on : a) your phone( 2GB /2K of memory & 800 m of additional features)2(\n",
            "2)   Features in their right proportions\n",
            "b) You can easily navigate as we go back for a very realistic way.\n",
            " \n",
            "\n",
            "14:  \n",
            "You want to explore an underground. Here, an escape tunnel by walking, cycling down, avoiding obstacles to collect supplies while completing the mission at that time and at that time: 12 times.  The time after completing a stage of, or one after a restart. And the time after each restart is the time on track of the goal -\n",
            "\"Do You Keep Dying And Your Next Job?\",  In \"Keep \"Minging\", this option allows. I feel like a survival mode, if so\n",
            "You'll play in multiplayer only if one more player decides.  Can buy tickets \n",
            "15:   This game gives a choice when to save your girl as much fun will you do    and stop her teasing you is fun game play or is more interesting puzzle game style game type and fun to complete quickly\n",
            "Key details \n",
            "\n",
            "16:  \n",
            "17:  In VORCA WORLD we need a game that simulates world domination by driving and eating all over. There are 15 missions. There are a whole team and a big variety of buildings and vehicles available from around us here in beautiful France, Switzerland - Switzerland. This world is a simulation, and all our gameplay is simulation/adhesive simulations of some world we experience, like Europe or Europe of China. \n",
            "All models, textures and animations based on the assets developed on the Virtual Reality Worlds\n",
            "18:   \n",
            "The only thing standing between you\n",
            "and the next  After Earth Earth 1 game\n",
            ".\n",
            "You now become a  planet, only available after completing the space missions, completing an interloping test (a challenge),  a piloting challenge, landing missions,  landings by flying a craft, and \n",
            ", a unique experience  by the Earth 1 team.\n",
            ".  \n",
            "\n",
            "19:  \n",
            "\n"
          ]
        },
        {
          "name": "stderr",
          "output_type": "stream",
          "text": [
            "Special tokens have been added in the vocabulary, make sure the associated word embeddings are fine-tuned or trained.\n"
          ]
        },
        {
          "name": "stdout",
          "output_type": "stream",
          "text": [
            "sports_and_racing\n"
          ]
        },
        {
          "name": "stderr",
          "output_type": "stream",
          "text": [
            "/usr/local/lib/python3.10/dist-packages/transformers/optimization.py:411: FutureWarning: This implementation of AdamW is deprecated and will be removed in a future version. Use the PyTorch implementation torch.optim.AdamW instead, or set `no_deprecation_warning=True` to disable this warning\n",
            "  warnings.warn(\n"
          ]
        },
        {
          "data": {
            "text/html": [
              "\n",
              "    <div>\n",
              "      \n",
              "      <progress value='412' max='412' style='width:300px; height:20px; vertical-align: middle;'></progress>\n",
              "      [412/412 02:19, Epoch 1/1]\n",
              "    </div>\n",
              "    <table border=\"1\" class=\"dataframe\">\n",
              "  <thead>\n",
              " <tr style=\"text-align: left;\">\n",
              "      <th>Step</th>\n",
              "      <th>Training Loss</th>\n",
              "    </tr>\n",
              "  </thead>\n",
              "  <tbody>\n",
              "    <tr>\n",
              "      <td>100</td>\n",
              "      <td>6.123800</td>\n",
              "    </tr>\n",
              "    <tr>\n",
              "      <td>200</td>\n",
              "      <td>2.065000</td>\n",
              "    </tr>\n",
              "    <tr>\n",
              "      <td>300</td>\n",
              "      <td>1.991800</td>\n",
              "    </tr>\n",
              "    <tr>\n",
              "      <td>400</td>\n",
              "      <td>1.903900</td>\n",
              "    </tr>\n",
              "  </tbody>\n",
              "</table><p>"
            ],
            "text/plain": [
              "<IPython.core.display.HTML object>"
            ]
          },
          "metadata": {},
          "output_type": "display_data"
        },
        {
          "name": "stderr",
          "output_type": "stream",
          "text": [
            "The attention mask and the pad token id were not set. As a consequence, you may observe unexpected behavior. Please pass your input's `attention_mask` to obtain reliable results.\n",
            "Setting `pad_token_id` to `eos_token_id`:50256 for open-end generation.\n"
          ]
        },
        {
          "name": "stdout",
          "output_type": "stream",
          "text": [
            "0:  Rally is an arcade driving adventure style ride based in The Game Park. \n",
            "The Challenge features 4 stages and 20 races each themed with one theme of 'Car Free,' 'Fun' - each stage you're gonna want to race with some variety as the difficulty of 'The Challenge' affects your win rate so be sure to race long enough in your bike and drive yourself insane for more. Make a difference, and prove that your car-pilot's skills and speed record is higher if you finish with \n",
            " \n",
            "\n",
            "1:  \n",
            "Race in a track and obstacle challenge game, try you will to win an amazing amount of medals every race.\n",
            " Play without mouse while running. Game controls, control pad etc. in a completely smooth racing experience! Use mouse/A button to break away and score points fast while trying not to land a wrong set. Earn coins, upgrade equipment (to keep competitive?), collect gold medals but avoid hazards more by aiming than jumping! There are other game mode of choice and various racing locations worldwide which can only make you experience and collect gold, a feeling we promise. Play in both multiplayer, leader boards or casual style with your brother or you to friends on PC\n",
            "2:  \"Tough Time Race, Race for Gold in a tight time race on some of The Carousel, now available on PC and other platform with full graphics and multiplayer.\n",
            "- Beautiful world\n",
            "Game Mechanics- Drive on wheels, avoid blocks, cars and cars. The track will have 3 levels: Levels 1.   and Level 3  and 4  each have different  and  tracks\n",
            "- Track map\n",
            "- Time Race! \n",
            "3:  \"What you find is an  \"real\" version of a new map,\n",
            "\"a series map\" that puts you a distance to one or two locations to play \"Fruit Hunt on!\" you choose what time is \"perfect\" that the map needs: 1 -5 time or 20 - 100 different times that map and explore the game and discover new strategies. Find fruits by beating in order not impossible to get those, if you have a strong map then beat all maps.\n",
            "\n",
            "\n",
            "4:  \n",
            "Golfers game has 6 different modes as well as 2 exciting features to choose which one to keep the way that you enjoy the most. In each single play you should choose what course to win.\n",
            "\n",
            "How to play\n",
            "Simple in principle – it just consists clicking the tiles you get in a first life.\n",
            "\n",
            "Players face 2 game options from 3 on.\n",
            "Game Center Online – Online Online mode with AI\n",
            "Multiple choices of available:\n",
            "Single Game (20 stages of gameplay):   Each step only the player may finish this section within 1 second each with its unique game modes.  After playing the whole game you will unlock one for playing online. Multiple Play –  Players only win all modes if only  they play within 2nds\n",
            "Multiple Levels of 4 to 12 to have you to a master class by you self\n",
            "Key Features: \n",
            "5:  \n",
            "\n",
            "Use it\n",
            "Use the mouse to rotate and zoom your vision while fighting! This is game about shooting enemies and avoiding bombs and! - Attack, Stealth, Escape, Defeat - Bomb, Upgrade; Attack & Stealth are options menu\n",
            "More Gameplay: Shooting enemies and hiding, Jumping & Climb\n",
            "\"\n",
            "6:   4  a race based on the city of the player. It only needs one thing each city!\n",
            "   5 player on local map using Windows 10 and Windows 8. Windows 8/10 has different system requirements than  The gameplay consists of the ability to use items in all races of this type\n",
            "\n",
            "7:  \n",
            "- Dynamic Lighting for each player\n",
            ". In addition you need also some unique gameplay skills, music system, new skills game for you and all your friend's, new achievements and new playlists. Let's play the fastest possible. Try different games from 1~4 players! With unique music tracks, difficulty and style as well as unique items on the playlists, your choices are open to all to choose from for our player.\n",
            "Download:\n",
            "\n",
            "8:  Takumi Takagi loves it: it feels super addictive- just throw it into the wall to the floor and jump away with the joyr in order To Jump High In The World! But it can also unlock to more routes! \n",
            "Experience the excitement\n",
            " for you only on\n",
            "!\n",
            "\n",
            "Tame:  The player on the left is required an obstacle course from the high score on an online leader board.\n",
            "This game consists  of obstacles that are constantly changing in complexity which the player has never encountered yet : obstacles on different levels; endless runner modes & various maps like. \n",
            "Experience that exhilaraté by jumping onto one of them with one hand!  The level: 100 -1000 is made for hardcore hardcore gamers ;\n",
            "9:  \n",
            ".Dancing Car Race 3\n",
            "! Race cars around the road, driving and smashing them through obstacles all the obstacles that put on cars for a quick crash-course is coming! A race from the time in real world with an old man who's going to come driving with this game or never ever \n",
            " \n",
            ". It's exciting!\n",
            "In each car and time to drive a race the player makes more turns while aiming to win more medals\n",
            " \n",
            "\n",
            "Enjoy the race and see if it allows for achievements; unlock new levels, unlock faster vehicles while in new vehicles; become more faster in one race!\n",
            "\n",
            "Achieve higher medals you are certain, but in this game will need some luck;\n",
            "10:  \n",
            "11:      ≘ to +4 for  ≥+1+5 for  ‏≼ or‼\n",
            "is available now to mers! In this simple 2.   game, player  can \"gave your\"\n",
            "bgave an 賂 for any t   or � a-By the final appearance: It also used what,10 \"154The has, this \"\n",
            "s a first-based.\n",
            "12:    .Mountain of Doom by Kritcher.CRAFT FOR TARIFUR.\n",
            "In 3d game -craft!You fight many unique monster- creatures ranging from flying reptiles which shoot acid and blood into its skin and leave blood marks; and flying fish with large teeth, capable not only while climbing, flying, swinging while aiming and while swimming in water— each with specific strategy. Each type of the boss!\n",
            "Control-Key: Shift is Game-Key;\n",
            "Press:\n",
            "B (Start); B to right on.\n",
            "E keys \"enter\" & \"enter\" to move\n",
            "L & M on the keyboard to pick different weapons\n",
            "-All combinations of the key- Weapon, Damage  The attack of which,\n",
            ", as to pass that enemy into dead or defeated-the aim of that  in which is based from what weapon is pressed\n",
            "13:  \n",
            "Use the most dynamic movement game player to solve difficult puzzles in 5D with limited options, all this for 10 bucks.\n",
            " \n",
            "\n",
            "Control system? Gamepad keyboard controls not necessary\n",
            "\n",
            "Play only a single levels (10 in 4 different game endings) that will be played back while you work with new friends online or get new levels online\n",
            "14:  This casual adventure board game has 3+ environments, from snowplow on a car to your motorbike racing through this dark and muddy forest to fight giant snow monsters like Zunba! \n",
            "15:   The best arcade racing. Classic controls, unique abilities and superpowers make arcade gameplay fun again. To the new gamer! Racing to the victory as much! Challenge the new best leaderboards or jump forward to all 5 to get to 1000 points. New! Realism and style at the very same time!\n",
            "\n",
            "Check this time, in 1! arcade gameplay based of a lot of different genres. Super racing for you.\n",
            "- Fun, original, unique player's customization\n",
            "It all depends on each time player\n",
            "The game contains 30 different mini games designed. 2 teams, 6 difficulty options based\n",
            " The goal of driving in VR is  Driving with style and good skill. Each and as ever: Relax. It\n",
            "\n",
            "\n",
            "16:   \n",
            "1) Time to get an ice rod with the power up, dodge to save ice rods you can catch fish and pass obstacles. Jump the rod (lucky move)   in certain conditions \n",
            "- If all your orbs will to hit ice rod, only ice has life in it\n",
            " \n",
            "Weaker (or Ice)- \n",
            "\n",
            "17:  You ride a skateboarding vehicle in 5 stages of an idee and collect points during these trials\n",
            "18:  \n",
            "\n",
            "19:  \n",
            "F irst time on Kickstarter is an game. \n",
            "\n",
            "We create a game to experience how well you can manage all of the basic elements of one to 3 dimensional environment and enjoy them, for more experience how far in you know in such an \n",
            "key games like, action parkour where players fly and perform different stunts and run over some kind creatures and find things that their best stunt or the only means of success. \n"
          ]
        }
      ],
      "source": [
        "categories = ['action','adventure','rpg','strategy','simulation','sports_and_racing']\n",
        "for category  in categories:\n",
        "  print(category)\n",
        "  model,tokenizer = get_model()\n",
        "  train_dataset, val_dataset = get_dataset(category,tokenizer)\n",
        "  torch.cuda.empty_cache()\n",
        "  Trainer(model=model,  args=training_args, train_dataset=train_dataset,\n",
        "          eval_dataset=val_dataset, data_collator=lambda data: {'input_ids': torch.stack([f[0] for f in data]),\n",
        "                                                                  'attention_mask': torch.stack([f[1] for f in data]),\n",
        "                                                                  'labels': torch.stack([f[0] for f in data])}).train()\n",
        "  generate_description(tokenizer,model,category)\n",
        "  torch.save(model.state_dict(), f'{PATH}models/{category}.language_model.pt')\n"
      ]
    },
    {
      "cell_type": "markdown",
      "id": "zIG2L7UKv-7i",
      "metadata": {
        "id": "zIG2L7UKv-7i"
      },
      "source": [
        "  torch.save(model.state_dict(), f'{PATH}models/{category}.language_model.pt')\n"
      ]
    }
  ],
  "metadata": {
    "accelerator": "GPU",
    "colab": {
      "gpuType": "T4",
      "provenance": []
    },
    "kernelspec": {
      "display_name": "Python 3",
      "name": "python3"
    },
    "language_info": {
      "codemirror_mode": {
        "name": "ipython",
        "version": 3
      },
      "file_extension": ".py",
      "mimetype": "text/x-python",
      "name": "python",
      "nbconvert_exporter": "python",
      "pygments_lexer": "ipython3",
      "version": "3.10.0"
    },
    "papermill": {
      "default_parameters": {},
      "duration": 1452.04072,
      "end_time": "2022-03-02T09:35:20.563002",
      "environment_variables": {},
      "exception": null,
      "input_path": "__notebook__.ipynb",
      "output_path": "__notebook__.ipynb",
      "parameters": {},
      "start_time": "2022-03-02T09:11:08.522282",
      "version": "2.3.2"
    }
  },
  "nbformat": 4,
  "nbformat_minor": 5
}
